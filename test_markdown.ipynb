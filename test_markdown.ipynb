{
 "cells": [
  {
   "cell_type": "markdown",
   "id": "1b5f21fa-c716-4344-a237-a8b6f876465f",
   "metadata": {},
   "source": [
    "# __Statistical and Linguistic Insights for Model Explanation - SLIME__ \n",
    "\n",
    "[![DOI](https://zenodo.org/badge/DOI/10.5281/zenodo.7127963.svg)](https://doi.org/10.5281/zenodo.7127963)\n",
    "[![PyPI Version](https://img.shields.io/pypi/v/grav-waldo?color=)](https://pypi.org/project/grav-waldo/)\n",
    "\n",
    "Slime is a ...\n",
    "\n",
    "<p float=\"central\">\n",
    "  <img src=\"figs/exp.png\" width=\"400\" />\n",
    "</p>\n",
    "\n",
    "## Installation\n",
    "\n",
    "To install SLIME, we can use the pip [command](https://pypi.org/project/grav-waldo/):\n",
    "\n",
    "```bash\n",
    "pip install slime_nlp\n",
    "```\n",
    "\n",
    "## Content\n",
    "\n",
    "The project is composed of three main [codes](https://github.com/marinatrs/slime_nlp/tree/main/slime_nlp):\n",
    "- __dataset.py__ for pre-processing _csv_ dataset;\n",
    "- __model.py:__ the custom LLM for classification;\n",
    "- __slime.py:__ for model explanability.\n",
    "\n",
    "Check the tutorials in [docs](https://github.com/marinatrs/slime_nlp/tree/main/docs).\n",
    "\n",
    "## Reference\n",
    "\n",
    "__SLIME's paper:__ [A Methodology for Explainable Large Language Models with Integrated Gradients and Linguistic Analysis in Text Classification](https://arxiv.org/abs/2410.00250)\n",
    "\n",
    "#### About the author\n",
    "- [[ORCID] Marina Ribeiro](https://orcid.org/0000-0002-2516-3135)\n",
    "- [[ORCID] Tibério Pereira](https://orcid.org/0000-0003-1856-6881)"
   ]
  },
  {
   "cell_type": "code",
   "execution_count": null,
   "id": "a49fe4fc-fc4c-4c47-bbf9-5becb1d94121",
   "metadata": {},
   "outputs": [],
   "source": []
  }
 ],
 "metadata": {
  "kernelspec": {
   "display_name": "Python 3 (ipykernel)",
   "language": "python",
   "name": "python3"
  },
  "language_info": {
   "codemirror_mode": {
    "name": "ipython",
    "version": 3
   },
   "file_extension": ".py",
   "mimetype": "text/x-python",
   "name": "python",
   "nbconvert_exporter": "python",
   "pygments_lexer": "ipython3",
   "version": "3.12.2"
  }
 },
 "nbformat": 4,
 "nbformat_minor": 5
}
