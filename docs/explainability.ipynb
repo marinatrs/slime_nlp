{
 "cells": [
  {
   "cell_type": "markdown",
   "id": "c8171ece-d5de-4d6f-9052-857dac4cb17f",
   "metadata": {},
   "source": [
    "## __Statistical and Linguistic Insights for Model Explanation - SLIME__ \n",
    "### __Model explainability__\n",
    "<font size=3>"
   ]
  },
  {
   "cell_type": "code",
   "execution_count": 1,
   "id": "5baf5434-495b-413f-8dca-6b6d590bd91a",
   "metadata": {},
   "outputs": [],
   "source": [
    "from slime_nlp.dataset import ImportData\n",
    "from slime_nlp.model import CustomModel\n",
    "from slime_nlp.slime import ExplainModel"
   ]
  },
  {
   "cell_type": "markdown",
   "id": "2dbd6c16-3c81-4f05-b99d-3a13d22a0c3b",
   "metadata": {},
   "source": [
    "<font size=3>\n",
    "    \n",
    "For model explanability, we use $\\mathtt{ExplainModel}$ object for\n",
    "* $\\mathtt{explain()}$ the attribution scores by text;\n",
    "* $\\mathtt{model\\_prediction()}$ given the fine-tuned $\\mathtt{CustomModel}$'s weights;\n",
    "* $\\mathtt{visualize()}$ the text's tokens with [Integrated Gradient](https://arxiv.org/abs/1703.01365)'s attribution highlights;\n",
    "* $\\mathtt{attribution\\_by\\_token()}$ outputs a dataframe with the explanability scores by tokens.\n",
    "\n",
    "Check the $\\mathtt{ExplainModel}$'s doc below."
   ]
  },
  {
   "cell_type": "code",
   "execution_count": 2,
   "id": "064013fd-ab54-48b1-8e0a-1fd11d3f99c7",
   "metadata": {},
   "outputs": [
    {
     "name": "stdout",
     "output_type": "stream",
     "text": [
      "\n",
      "    # ExplainModel: model explanability tools for data processing and visualization.\n",
      "    \n",
      "    Input: (model_name=None, device='cpu', n_steps=50, pretrained_name=\"google-bert/bert-base-cased\")\n",
      "    -----\n",
      "    - model_name (str): string with the path and model's name.\n",
      "    - device (str): select CPU or GPU device for output tensors.\n",
      "    - n_steps (int): number of steps for Integrated Gradient approximation.\n",
      "    - pretained_name (str): pretrained model name from huggingface.co repository.\n",
      "    \n",
      "    \n",
      "    Methods:\n",
      "    -------\n",
      "    - explain: (text)\n",
      "      -- text (str): text as string format.\n",
      "    \n",
      "      Returns a dictionary with \n",
      "      > input_ids (Tensor[int]): sequence of special tokens IDs.\n",
      "      > token_list (List[str]): of tokens.\n",
      "      > attributions (Tensor[float]): Integrated Gradient's attribution score by token.\n",
      "      > delta (Tensor[float]): Integrated Gradient's error metric.\n",
      "    \n",
      "    - model_prediction: (input_ids)\n",
      "      -- input_ids (Tensor): sequence of special tokens IDs.\n",
      "    \n",
      "      Returns a dictionary with\n",
      "      > prob (float): classification probability score in [0, 1].\n",
      "      > class (int): classification integer score 0 or 1.\n",
      "    \n",
      "    - visualize: (data, cmap_size=20, colors=[\"#73949e\", \"white\", \"#e2a8a7\"], path_name=None)\n",
      "      -- data (DataFrame): pandas dataframe with \"text\" and \"group\" columns.\n",
      "      -- cmap_size (int): color-map discretization size.\n",
      "      -- colors (List[str]): list of color in hex for color-map.\n",
      "      -- path_name (str): string with the path and figure's name for output saving.\n",
      "    \n",
      "      Returns the tokenized text with attribution score by token.\n",
      "    \n",
      "    - attribution_by_token: (data, path_name=None, return_results=False):\n",
      "      -- data (DataFrame): pandas dataframe with \"id\", \"text\", and \"group\" columns.\n",
      "      -- path_name (str): string with the path and dataframe's name for saving.\n",
      "      -- return_results (bool): boolean variable for returning dataframe.\n",
      "    \n",
      "      Returns a dataframe with \n",
      "      > id (str): text's ID.\n",
      "      > condition (str): string to indicate \"condition\" or \"control\" group.\n",
      "      > group (int): integer corresponding to the condition label (0 or 1).\n",
      "      > pred_label (int): model's predition group (0 or 1).\n",
      "      > score (float): the sum of the text's attribution values.\n",
      "      > attribution (float): token's attribution value.\n",
      "      > token (str): text's token.\n",
      "    \n",
      "    \n"
     ]
    }
   ],
   "source": [
    "exp = ExplainModel(model_name=\"../weights/best_model.pt\", n_steps=10)  \n",
    "\n",
    "print(exp.__doc__)"
   ]
  },
  {
   "cell_type": "code",
   "execution_count": 3,
   "id": "1d79cc55-10dc-4dfe-a29e-edd5187e6613",
   "metadata": {},
   "outputs": [
    {
     "data": {
      "text/plain": [
       "\"well the little girl is saying to be uiet to her brother . and her brother's in the cookie jar and he's falling off the chair . the mother's oblivious to all . she's washing her dishes and the water's coming outof her sink . i don't know what she's thinking of . <filler> let's see what we have . anything outside . i don't know . okay . nothing out there . these are okay . the dishes are okay . let's see . how are their shoes . their socks are alright . i don't know\""
      ]
     },
     "execution_count": 3,
     "metadata": {},
     "output_type": "execute_result"
    }
   ],
   "source": [
    "# Import dataset:\n",
    "id = ImportData(path_name=\"../dataset/adress_all.csv\", group_by=[\"id\", \"text\", \"group\"], verbose=False)\n",
    "\n",
    "text = id.train['text'][0]\n",
    "text"
   ]
  },
  {
   "cell_type": "markdown",
   "id": "b3bf3a6c-42a0-46da-afd3-d79d2178a44e",
   "metadata": {},
   "source": [
    "#### __1. $\\mathtt{ExplainModel().explain()}$:__\n",
    "<font size=3>\n",
    "\n",
    "Computing the attributions from text."
   ]
  },
  {
   "cell_type": "code",
   "execution_count": 4,
   "id": "b347e25e-abe7-4d0c-b26a-fe96e451dab2",
   "metadata": {},
   "outputs": [
    {
     "data": {
      "text/plain": [
       "dict_keys(['input_ids', 'token_list', 'attributions', 'delta'])"
      ]
     },
     "execution_count": 4,
     "metadata": {},
     "output_type": "execute_result"
    }
   ],
   "source": [
    "exp_results = exp.explain(text)\n",
    "exp_results.keys()"
   ]
  },
  {
   "cell_type": "markdown",
   "id": "cd1f4e29-f48b-4cb7-bb30-7c9e31cc1857",
   "metadata": {},
   "source": [
    "#### __2. $\\mathtt{ExplainModel().model\\_prediction()}$:__\n",
    "<font size=3>\n",
    "\n",
    "Predicting condition from CustomModel."
   ]
  },
  {
   "cell_type": "code",
   "execution_count": 5,
   "id": "928c26ba-dbd1-4498-800c-f484c07fdf07",
   "metadata": {},
   "outputs": [
    {
     "data": {
      "text/plain": [
       "dict_keys(['prob', 'class'])"
      ]
     },
     "execution_count": 5,
     "metadata": {},
     "output_type": "execute_result"
    }
   ],
   "source": [
    "pred = exp.model_prediction(exp_results['input_ids'])\n",
    "pred.keys()"
   ]
  },
  {
   "cell_type": "markdown",
   "id": "1869e536-a018-4847-97c9-d607cff4b200",
   "metadata": {},
   "source": [
    "#### __3. $\\mathtt{ExplainModel().visualize()}$:__\n",
    "<font size=3>\n",
    "\n",
    "Visualizing the attribution highlights by text's tokens."
   ]
  },
  {
   "cell_type": "code",
   "execution_count": 6,
   "id": "73aa973c-cbc8-4683-9bd0-27d3ee59c5e8",
   "metadata": {},
   "outputs": [
    {
     "data": {
      "text/html": [
       "<table width: 100%><div style=\"border-top: 1px solid; margin-top: 5px;                          padding-top: 5px; display: inline-block\"><b>Legend: </b><span style=\"display: inline-block; width: 10px; height: 10px;                             border: 1px solid; background-color:                              #73949e\" ></span> Control <span style=\"display: inline-block; width: 10px; height: 10px;                             border: 1px solid; background-color:                              white\" ></span> Neutral <span style=\"display: inline-block; width: 10px; height: 10px;                             border: 1px solid; background-color:                              #e2a8a7\" ></span> Condition </div><tr><th>True Label</th><th>Predicted Label</th><th>Predicted probability</th><th>Attribution Score</th><tr><th>control</th><th>control</th><th>0.00</th><th>-3.06</th></table> <span style='background-color: #fdfafa'>[CLS]</span> <span style='background-color: #faf1f1'>well</span> <span style='background-color: #f8f9fa'>the</span> <span style='background-color: #f8f9fa'>little</span> <span style='background-color: #fdfafa'>girl</span> <span style='background-color: #fdfafa'>is</span> <span style='background-color: #dae3e5'>reaching</span> <span style='background-color: #f8f9fa'>for</span> <span style='background-color: #f8f9fa'>a</span> <span style='background-color: #f4dfdf'>cookie</span> <span style='background-color: #f8f9fa'>.</span> <span style='background-color: #e9eef0'>and</span> <span style='background-color: #fdfafa'>the</span> <span style='background-color: #f8f9fa'>boy</span> <span style='background-color: #e9eef0'>is</span> <span style='background-color: #f8f9fa'>on</span> <span style='background-color: #f8f9fa'>a</span> <span style='background-color: #f8f9fa'>stool</span> <span style='background-color: #e9eef0'>which</span> <span style='background-color: #f8f9fa'>is</span> <span style='background-color: #f8f9fa'>falling</span> <span style='background-color: #f8f9fa'>over</span> <span style='background-color: #f8f9fa'>to</span> <span style='background-color: #f8f9fa'>get</span> <span style='background-color: #fdfafa'>in</span> <span style='background-color: #f8f9fa'>the</span> <span style='background-color: #f8f9fa'>.</span> <span style='background-color: #fdfafa'>the</span> <span style='background-color: #fdfafa'>f</span> <span style='background-color: #f8f9fa'>##au</span> <span style='background-color: #f8f9fa'>##ce</span> <span style='background-color: #f8f9fa'>##t</span> <span style='background-color: #e9eef0'>is</span> <span style='background-color: #f8f9fa'>running</span> <span style='background-color: #f8f9fa'>and</span> <span style='background-color: #f8f9fa'>it</span> <span style='background-color: #fdfafa'>'</span> <span style='background-color: #f8f9fa'>s</span> <span style='background-color: #f8f9fa'>over</span> <span style='background-color: #f8f9fa'>##flow</span> <span style='background-color: #f8f9fa'>##ing</span> <span style='background-color: #fdfafa'>onto</span> <span style='background-color: #e9eef0'>the</span> <span style='background-color: #fdfafa'>floor</span> <span style='background-color: #fdfafa'>because</span> <span style='background-color: #f8f9fa'>.</span> <span style='background-color: #f8f9fa'>the</span> <span style='background-color: #f8f9fa'>woman</span> <span style='background-color: #f8f9fa'>is</span> <span style='background-color: #f8f9fa'>drying</span> <span style='background-color: #fdfafa'>a</span> <span style='background-color: #f8f9fa'>plate</span> <span style='background-color: #f8f9fa'>.</span> <span style='background-color: #faf1f1'>she</span> <span style='background-color: #fdfafa'>'</span> <span style='background-color: #f8f9fa'>s</span> <span style='background-color: #f8f9fa'>also</span> <span style='background-color: #f8f9fa'>looking</span> <span style='background-color: #f8f9fa'>out</span> <span style='background-color: #fdfafa'>the</span> <span style='background-color: #dae3e5'>window</span> <span style='background-color: #f8f9fa'>.</span> <span style='background-color: #f8f9fa'>there</span> <span style='background-color: #fdfafa'>'</span> <span style='background-color: #f8f9fa'>s</span> <span style='background-color: #f8f9fa'>a</span> <span style='background-color: #f8f9fa'>couple</span> <span style='background-color: #fdfafa'>of</span> <span style='background-color: #f8f9fa'>bowls</span> <span style='background-color: #fdfafa'>and</span> <span style='background-color: #f8f9fa'>a</span> <span style='background-color: #f8f9fa'>plate</span> <span style='background-color: #fdfafa'>on</span> <span style='background-color: #f8f9fa'>the</span> <span style='background-color: #fdfafa'><</span> <span style='background-color: #fdfafa'>fill</span> <span style='background-color: #f8f9fa'>##er</span> <span style='background-color: #f8f9fa'>></span> <span style='background-color: #f8f9fa'>counter</span> <span style='background-color: #f8f9fa'>.</span> <span style='background-color: #fdfafa'>curtains</span> <span style='background-color: #fdfafa'>at</span> <span style='background-color: #fdfafa'>the</span> <span style='background-color: #bdccd1'>windows</span> <span style='background-color: #faf1f1'>.</span> <span style='background-color: #f8f9fa'>there</span> <span style='background-color: #fdfafa'>'</span> <span style='background-color: #f8f9fa'>s</span> <span style='background-color: #fdfafa'>a</span> <span style='background-color: #fdfafa'>driveway</span> <span style='background-color: #e9eef0'>or</span> <span style='background-color: #e9eef0'>it</span> <span style='background-color: #f8f9fa'>looks</span> <span style='background-color: #f8f9fa'>like</span> <span style='background-color: #f8f9fa'>a</span> <span style='background-color: #fdfafa'>driveway</span> <span style='background-color: #e9eef0'>outside</span> <span style='background-color: #fdfafa'>.</span> <span style='background-color: #f8f9fa'>and</span> <span style='background-color: #dae3e5'>you</span> <span style='background-color: #e9eef0'>can</span> <span style='background-color: #e9eef0'>see</span> <span style='background-color: #faf1f1'>another</span> <span style='background-color: #fdfafa'>window</span> <span style='background-color: #f8f9fa'>and</span> <span style='background-color: #f8f9fa'>some</span> <span style='background-color: #fdfafa'>bushes</span> <span style='background-color: #fdfafa'>out</span> <span style='background-color: #f8f9fa'>there</span> <span style='background-color: #f8f9fa'>and</span> <span style='background-color: #fdfafa'>the</span> <span style='background-color: #f8f9fa'>.</span> <span style='background-color: #f8f9fa'>and</span> <span style='background-color: #f8f9fa'>i</span> <span style='background-color: #fdfafa'>guess</span> <span style='background-color: #f8f9fa'>that</span> <span style='background-color: #f8f9fa'>'</span> <span style='background-color: #f8f9fa'>s</span> <span style='background-color: #f8f9fa'><</span> <span style='background-color: #fdfafa'>re</span> <span style='background-color: #f8f9fa'>##tra</span> <span style='background-color: #f8f9fa'>##cing</span> <span style='background-color: #f8f9fa'>></span> <span style='background-color: #fdfafa'><</span> <span style='background-color: #f8f9fa'>fill</span> <span style='background-color: #f8f9fa'>##er</span> <span style='background-color: #f8f9fa'>></span> <span style='background-color: #fdfafa'>looks</span> <span style='background-color: #fdfafa'>like</span> <span style='background-color: #e9eef0'>a</span> <span style='background-color: #fdfafa'>part</span> <span style='background-color: #fdfafa'>of</span> <span style='background-color: #fdfafa'>the</span> <span style='background-color: #f8f9fa'>garage</span> <span style='background-color: #fdfafa'>.</span> <span style='background-color: #f8f9fa'>and</span> <span style='background-color: #f8f9fa'><</span> <span style='background-color: #fdfafa'>fill</span> <span style='background-color: #fdfafa'>##er</span> <span style='background-color: #f8f9fa'>></span> <span style='background-color: #f8f9fa'><</span> <span style='background-color: #f8f9fa'>fill</span> <span style='background-color: #fdfafa'>##er</span> <span style='background-color: #f8f9fa'>></span> <span style='background-color: #fdfafa'>the</span> <span style='background-color: #fdfafa'>cookie</span> <span style='background-color: #f8f9fa'>jar</span> <span style='background-color: #f8f9fa'>has</span> <span style='background-color: #fdfafa'>the</span> <span style='background-color: #f8f9fa'>lid</span> <span style='background-color: #f8f9fa'>off</span> <span style='background-color: #fdfafa'>.</span> <span style='background-color: #f8f9fa'>and</span> <span style='background-color: #f8f9fa'>the</span> <span style='background-color: #f8f9fa'>boy</span> <span style='background-color: #f8f9fa'>has</span> <span style='background-color: #f8f9fa'>one</span> <span style='background-color: #f8f9fa'>hand</span> <span style='background-color: #f8f9fa'>in</span> <span style='background-color: #f8f9fa'>the</span> <span style='background-color: #f8f9fa'>cookie</span> <span style='background-color: #f8f9fa'>jar</span> <span style='background-color: #f8f9fa'>and</span> <span style='background-color: #f8f9fa'>one</span> <span style='background-color: #fdfafa'>with</span> <span style='background-color: #f8f9fa'>a</span> <span style='background-color: #fdfafa'>cookie</span> <span style='background-color: #faf1f1'>in</span> <span style='background-color: #fdfafa'>[SEP]</span><br><br>"
      ],
      "text/plain": [
       "<IPython.core.display.HTML object>"
      ]
     },
     "metadata": {},
     "output_type": "display_data"
    },
    {
     "data": {
      "text/html": [
       "<table width: 100%><div style=\"border-top: 1px solid; margin-top: 5px;                          padding-top: 5px; display: inline-block\"><b>Legend: </b><span style=\"display: inline-block; width: 10px; height: 10px;                             border: 1px solid; background-color:                              #73949e\" ></span> Control <span style=\"display: inline-block; width: 10px; height: 10px;                             border: 1px solid; background-color:                              white\" ></span> Neutral <span style=\"display: inline-block; width: 10px; height: 10px;                             border: 1px solid; background-color:                              #e2a8a7\" ></span> Condition </div><tr><th>True Label</th><th>Predicted Label</th><th>Predicted probability</th><th>Attribution Score</th><tr><th>condition</th><th>condition</th><th>0.70</th><th>-1.61</th></table> <span style='background-color: #fdfafa'>[CLS]</span> <span style='background-color: #fdfafa'>alright</span> <span style='background-color: #fdfafa'>.</span> <span style='background-color: #fdfafa'>i</span> <span style='background-color: #f8f9fa'>see</span> <span style='background-color: #fdfafa'>the</span> <span style='background-color: #fdfafa'>little</span> <span style='background-color: #fdfafa'>boy</span> <span style='background-color: #e9eef0'>stealing</span> <span style='background-color: #e9eef0'>cookies</span> <span style='background-color: #faf1f1'>from</span> <span style='background-color: #fdfafa'>the</span> <span style='background-color: #f8f9fa'>cookie</span> <span style='background-color: #f8f9fa'>jar</span> <span style='background-color: #f8f9fa'>.</span> <span style='background-color: #fdfafa'>and</span> <span style='background-color: #fdfafa'>the</span> <span style='background-color: #fdfafa'>little</span> <span style='background-color: #fdfafa'>girl</span> <span style='background-color: #f8f9fa'>'</span> <span style='background-color: #f8f9fa'>s</span> <span style='background-color: #f8f9fa'><</span> <span style='background-color: #f8f9fa'>re</span> <span style='background-color: #f8f9fa'>##tra</span> <span style='background-color: #f8f9fa'>##cing</span> <span style='background-color: #f8f9fa'>></span> <span style='background-color: #f8f9fa'><</span> <span style='background-color: #f8f9fa'>fill</span> <span style='background-color: #f8f9fa'>##er</span> <span style='background-color: #f8f9fa'>></span> <span style='background-color: #f8f9fa'>he</span> <span style='background-color: #f8f9fa'>gave</span> <span style='background-color: #f8f9fa'>some</span> <span style='background-color: #f8f9fa'>to</span> <span style='background-color: #f8f9fa'>the</span> <span style='background-color: #f8f9fa'>little</span> <span style='background-color: #f8f9fa'>girl</span> <span style='background-color: #f8f9fa'>.</span> <span style='background-color: #fdfafa'>and</span> <span style='background-color: #f8f9fa'>i</span> <span style='background-color: #fdfafa'>guess</span> <span style='background-color: #fdfafa'>this</span> <span style='background-color: #f8f9fa'>is</span> <span style='background-color: #fdfafa'>ma</span> <span style='background-color: #f8f9fa'>##ma</span> <span style='background-color: #fdfafa'>and</span> <span style='background-color: #f8f9fa'>she</span> <span style='background-color: #fdfafa'>'</span> <span style='background-color: #fdfafa'>s</span> <span style='background-color: #f8f9fa'>washing</span> <span style='background-color: #f8f9fa'>the</span> <span style='background-color: #f8f9fa'>dishes</span> <span style='background-color: #e9eef0'>.</span> <span style='background-color: #f8f9fa'>and</span> <span style='background-color: #f8f9fa'>she</span> <span style='background-color: #f8f9fa'>dropped</span> <span style='background-color: #f8f9fa'>a</span> <span style='background-color: #f8f9fa'>dish</span> <span style='background-color: #f8f9fa'>.</span> <span style='background-color: #f8f9fa'>no</span> <span style='background-color: #f8f9fa'><</span> <span style='background-color: #f8f9fa'>re</span> <span style='background-color: #f8f9fa'>##tra</span> <span style='background-color: #f8f9fa'>##cing</span> <span style='background-color: #f8f9fa'>></span> <span style='background-color: #f8f9fa'>no</span> <span style='background-color: #f8f9fa'>she</span> <span style='background-color: #f8f9fa'>didn</span> <span style='background-color: #f8f9fa'>'</span> <span style='background-color: #f8f9fa'>t</span> <span style='background-color: #f8f9fa'>drop</span> <span style='background-color: #fdfafa'>a</span> <span style='background-color: #f8f9fa'>dish</span> <span style='background-color: #fdfafa'>.</span> <span style='background-color: #f8f9fa'><</span> <span style='background-color: #fdfafa'>fill</span> <span style='background-color: #fdfafa'>##er</span> <span style='background-color: #f8f9fa'>></span> <span style='background-color: #fdfafa'>the</span> <span style='background-color: #f8f9fa'><</span> <span style='background-color: #fdfafa'>re</span> <span style='background-color: #f8f9fa'>##tra</span> <span style='background-color: #fdfafa'>##cing</span> <span style='background-color: #f8f9fa'>></span> <span style='background-color: #fdfafa'>the</span> <span style='background-color: #f8f9fa'>water</span> <span style='background-color: #f8f9fa'>that</span> <span style='background-color: #fdfafa'>she</span> <span style='background-color: #fdfafa'>'</span> <span style='background-color: #fdfafa'>s</span> <span style='background-color: #fdfafa'>washing</span> <span style='background-color: #fdfafa'>the</span> <span style='background-color: #fdfafa'>dishes</span> <span style='background-color: #f8f9fa'>with</span> <span style='background-color: #fdfafa'>she</span> <span style='background-color: #f8f9fa'>let</span> <span style='background-color: #fdfafa'>.</span> <span style='background-color: #f8f9fa'>and</span> <span style='background-color: #f8f9fa'>it</span> <span style='background-color: #fdfafa'>'</span> <span style='background-color: #fdfafa'>s</span> <span style='background-color: #f8f9fa'>over</span> <span style='background-color: #f8f9fa'>##flow</span> <span style='background-color: #fdfafa'>##n</span> <span style='background-color: #f8f9fa'><</span> <span style='background-color: #fdfafa'>re</span> <span style='background-color: #fdfafa'>##tra</span> <span style='background-color: #fdfafa'>##cing</span> <span style='background-color: #fdfafa'>></span> <span style='background-color: #f8f9fa'><</span> <span style='background-color: #fdfafa'>fill</span> <span style='background-color: #fdfafa'>##er</span> <span style='background-color: #f8f9fa'>></span> <span style='background-color: #fdfafa'>over</span> <span style='background-color: #f8f9fa'>##flow</span> <span style='background-color: #fdfafa'>##n</span> <span style='background-color: #f8f9fa'><</span> <span style='background-color: #fdfafa'>re</span> <span style='background-color: #fdfafa'>##tra</span> <span style='background-color: #fdfafa'>##cing</span> <span style='background-color: #fdfafa'>></span> <span style='background-color: #f8f9fa'><</span> <span style='background-color: #fdfafa'>event</span> <span style='background-color: #fdfafa'>></span> <span style='background-color: #f8f9fa'><</span> <span style='background-color: #fdfafa'>fill</span> <span style='background-color: #fdfafa'>##er</span> <span style='background-color: #fdfafa'>></span> <span style='background-color: #f8f9fa'><</span> <span style='background-color: #fdfafa'>fill</span> <span style='background-color: #fdfafa'>##er</span> <span style='background-color: #f8f9fa'>></span> <span style='background-color: #fdfafa'>over</span> <span style='background-color: #f8f9fa'>##flow</span> <span style='background-color: #f8f9fa'>##n</span> <span style='background-color: #fdfafa'>.</span> <span style='background-color: #fdfafa'>that</span> <span style='background-color: #f8f9fa'>doesn</span> <span style='background-color: #fdfafa'>'</span> <span style='background-color: #f8f9fa'>t</span> <span style='background-color: #f8f9fa'><</span> <span style='background-color: #fdfafa'>re</span> <span style='background-color: #fdfafa'>##tra</span> <span style='background-color: #f8f9fa'>##cing</span> <span style='background-color: #fdfafa'>></span> <span style='background-color: #f8f9fa'>that</span> <span style='background-color: #fdfafa'>doesn</span> <span style='background-color: #fdfafa'>'</span> <span style='background-color: #f8f9fa'>t</span> <span style='background-color: #f8f9fa'>sound</span> <span style='background-color: #fdfafa'>right</span> <span style='background-color: #e9eef0'>.</span> <span style='background-color: #e9eef0'>did</span> <span style='background-color: #f8f9fa'>it</span> <span style='background-color: #fdfafa'><</span> <span style='background-color: #f8f9fa'>fill</span> <span style='background-color: #fdfafa'>##er</span> <span style='background-color: #f8f9fa'>></span> <span style='background-color: #f8f9fa'><</span> <span style='background-color: #fdfafa'>re</span> <span style='background-color: #fdfafa'>##tra</span> <span style='background-color: #f8f9fa'>##cing</span> <span style='background-color: #f8f9fa'>></span> <span style='background-color: #fdfafa'>.</span> <span style='background-color: #f8f9fa'>we</span> <span style='background-color: #f8f9fa'>forgot</span> <span style='background-color: #f8f9fa'>to</span> <span style='background-color: #f8f9fa'>turn</span> <span style='background-color: #f8f9fa'>off</span> <span style='background-color: #fdfafa'>the</span> <span style='background-color: #f8f9fa'>s</span> <span style='background-color: #fdfafa'>##pi</span> <span style='background-color: #fdfafa'>##got</span> <span style='background-color: #e9eef0'>.</span> <span style='background-color: #f8f9fa'>and</span> <span style='background-color: #f8f9fa'>so</span> <span style='background-color: #f8f9fa'>the</span> <span style='background-color: #faf1f1'>water</span> <span style='background-color: #f8f9fa'>is</span> <span style='background-color: #f8f9fa'>running</span> <span style='background-color: #fdfafa'>off</span> <span style='background-color: #fdfafa'>into</span> <span style='background-color: #f8f9fa'>the</span> <span style='background-color: #fdfafa'><</span> <span style='background-color: #fdfafa'>re</span> <span style='background-color: #fdfafa'>##tra</span> <span style='background-color: #f8f9fa'>##cing</span> <span style='background-color: #fdfafa'>></span> <span style='background-color: #fdfafa'>onto</span> <span style='background-color: #fdfafa'>the</span> <span style='background-color: #fdfafa'>floor</span> <span style='background-color: #e9eef0'>here</span> <span style='background-color: #e9eef0'>.</span> <span style='background-color: #fdfafa'>and</span> <span style='background-color: #fdfafa'>mom</span> <span style='background-color: #fdfafa'>apparently</span> <span style='background-color: #fdfafa'>is</span> <span style='background-color: #fdfafa'>washing</span> <span style='background-color: #f8f9fa'>the</span> <span style='background-color: #fdfafa'>dishes</span> <span style='background-color: #f8f9fa'>.</span> <span style='background-color: #fdfafa'>and</span> <span style='background-color: #faf1f1'>here</span> <span style='background-color: #f8f9fa'>'</span> <span style='background-color: #f8f9fa'>s</span> <span style='background-color: #f8f9fa'>this</span> <span style='background-color: #f8f9fa'>little</span> <span style='background-color: #f8f9fa'>boy</span> <span style='background-color: #f8f9fa'>stealing</span> <span style='background-color: #fdfafa'>the</span> <span style='background-color: #fdfafa'>cookie</span> <span style='background-color: #f8f9fa'><</span> <span style='background-color: #f8f9fa'>re</span> <span style='background-color: #f8f9fa'>##tra</span> <span style='background-color: #f8f9fa'>##cing</span> <span style='background-color: #fdfafa'>></span> <span style='background-color: #f8f9fa'><</span> <span style='background-color: #f8f9fa'>fill</span> <span style='background-color: #fdfafa'>##er</span> <span style='background-color: #f8f9fa'>></span> <span style='background-color: #f8f9fa'>cookies</span> <span style='background-color: #fdfafa'>.</span> <span style='background-color: #fdfafa'>he</span> <span style='background-color: #f8f9fa'>'</span> <span style='background-color: #f8f9fa'>s</span> <span style='background-color: #f8f9fa'>gonna</span> <span style='background-color: #fdfafa'><</span> <span style='background-color: #f8f9fa'>re</span> <span style='background-color: #f8f9fa'>##tra</span> <span style='background-color: #f8f9fa'>##cing</span> <span style='background-color: #f8f9fa'>></span> <span style='background-color: #f8f9fa'>gonna</span> <span style='background-color: #fdfafa'>fall</span> <span style='background-color: #f8f9fa'>because</span> <span style='background-color: #f8f9fa'>his</span> <span style='background-color: #f8f9fa'><</span> <span style='background-color: #fdfafa'>re</span> <span style='background-color: #fdfafa'>##tra</span> <span style='background-color: #f8f9fa'>##cing</span> <span style='background-color: #f8f9fa'>></span> <span style='background-color: #fdfafa'><</span> <span style='background-color: #f8f9fa'>fill</span> <span style='background-color: #fdfafa'>##er</span> <span style='background-color: #fdfafa'>></span> <span style='background-color: #fdfafa'>the</span> <span style='background-color: #f8f9fa'><</span> <span style='background-color: #fdfafa'>re</span> <span style='background-color: #fdfafa'>##tra</span> <span style='background-color: #fdfafa'>##cing</span> <span style='background-color: #fdfafa'>></span> <span style='background-color: #fdfafa'>the</span> <span style='background-color: #f8f9fa'>cookies</span> <span style='background-color: #faf1f1'>.</span> <span style='background-color: #fdfafa'>and</span> <span style='background-color: #f8f9fa'>ma</span> <span style='background-color: #f8f9fa'>##ma</span> <span style='background-color: #fdfafa'>'</span> <span style='background-color: #fdfafa'>s</span> <span style='background-color: #faf1f1'>drying</span> <span style='background-color: #fdfafa'>the</span> <span style='background-color: #f8f9fa'>dishes</span> <span style='background-color: #fdfafa'>as</span> <span style='background-color: #fdfafa'>usual</span> <span style='background-color: #f8f9fa'>for</span> <span style='background-color: #fdfafa'>ma</span> <span style='background-color: #fdfafa'>##mas</span> <span style='background-color: #f8f9fa'>.</span> <span style='background-color: #fdfafa'><</span> <span style='background-color: #fdfafa'>fill</span> <span style='background-color: #fdfafa'>##er</span> <span style='background-color: #fdfafa'>></span> <span style='background-color: #f8f9fa'>let</span> <span style='background-color: #f8f9fa'>'</span> <span style='background-color: #e9eef0'>s</span> <span style='background-color: #e9eef0'>see</span> <span style='background-color: #f8f9fa'>now</span> <span style='background-color: #f4dfdf'>.</span> <span style='background-color: #fdfafa'>i</span> <span style='background-color: #fdfafa'>guess</span> <span style='background-color: #fdfafa'>there</span> <span style='background-color: #fdfafa'>'</span> <span style='background-color: #f8f9fa'>s</span> <span style='background-color: #fdfafa'>more</span> <span style='background-color: #cbd8db'>things</span> <span style='background-color: #f8f9fa'>i</span> <span style='background-color: #f8f9fa'>'</span> <span style='background-color: #fdfafa'>m</span> <span style='background-color: #fdfafa'>s</span> <span style='background-color: #f8f9fa'>##post</span> <span style='background-color: #f8f9fa'>##a</span> <span style='background-color: #dae3e5'>see</span> <span style='background-color: #fdfafa'>.</span> <span style='background-color: #f8f9fa'>let</span> <span style='background-color: #fdfafa'>'</span> <span style='background-color: #f8f9fa'>s</span> <span style='background-color: #f8f9fa'>see</span> <span style='background-color: #fdfafa'>here</span> <span style='background-color: #f8f9fa'>now</span> <span style='background-color: #fdfafa'>.</span> <span style='background-color: #f8f9fa'>oh</span> <span style='background-color: #fdfafa'><</span> <span style='background-color: #fdfafa'>fill</span> <span style='background-color: #fdfafa'>##er</span> <span style='background-color: #fdfafa'>></span> <span style='background-color: #fdfafa'>.</span> <span style='background-color: #fdfafa'>mom</span> <span style='background-color: #fdfafa'>apparently</span> <span style='background-color: #fdfafa'>here</span> <span style='background-color: #fdfafa'>she</span> <span style='background-color: #f8f9fa'>forgot</span> <span style='background-color: #f8f9fa'>to</span> <span style='background-color: #f8f9fa'>turn</span> <span style='background-color: #f8f9fa'>off</span> <span style='background-color: #f8f9fa'>the</span> <span style='background-color: #f8f9fa'>water</span> <span style='background-color: #fdfafa'>and</span> <span style='background-color: #fdfafa'>the</span> <span style='background-color: #f8f9fa'><</span> <span style='background-color: #fdfafa'>re</span> <span style='background-color: #f8f9fa'>##tra</span> <span style='background-color: #f8f9fa'>##cing</span> <span style='background-color: #f8f9fa'>></span> <span style='background-color: #f8f9fa'>.</span> <span style='background-color: #fdfafa'>and</span> <span style='background-color: #fdfafa'>the</span> <span style='background-color: #fdfafa'>little</span> <span style='background-color: #fdfafa'>girl</span> <span style='background-color: #fdfafa'>has</span> <span style='background-color: #f8f9fa'>pushed</span> <span style='background-color: #f8f9fa'>over</span> <span style='background-color: #fdfafa'>the</span> <span style='background-color: #fdfafa'>.</span> <span style='background-color: #f8f9fa'><</span> <span style='background-color: #fdfafa'>fill</span> <span style='background-color: #fdfafa'>##er</span> <span style='background-color: #fdfafa'>></span> <span style='background-color: #fdfafa'>i</span> <span style='background-color: #fdfafa'><</span> <span style='background-color: #fdfafa'>re</span> <span style='background-color: #fdfafa'>##tra</span> <span style='background-color: #fdfafa'>##cing</span> <span style='background-color: #fdfafa'>></span> <span style='background-color: #f8f9fa'>either</span> <span style='background-color: #f8f9fa'>he</span> <span style='background-color: #fdfafa'>she</span> <span style='background-color: #fdfafa'>s</span> <span style='background-color: #fdfafa'>##r</span> <span style='background-color: #fdfafa'>-</span> <span style='background-color: #fdfafa'>re</span> <span style='background-color: #fdfafa'>##t</span> <span style='background-color: #f8f9fa'><</span> <span style='background-color: #fdfafa'>re</span> <span style='background-color: #fdfafa'>##tra</span> <span style='background-color: #fdfafa'>##cing</span> <span style='background-color: #fdfafa'>></span> <span style='background-color: #fdfafa'>she</span> <span style='background-color: #f8f9fa'>pushed</span> <span style='background-color: #fdfafa'>it</span> <span style='background-color: #fdfafa'>over</span> <span style='background-color: #f8f9fa'>or</span> <span style='background-color: #f8f9fa'>.</span> <span style='background-color: #f8f9fa'>you</span> <span style='background-color: #fdfafa'>##k</span> <span style='background-color: #fdfafa'>##no</span> <span style='background-color: #f8f9fa'>##w</span> <span style='background-color: #fdfafa'>it</span> <span style='background-color: #fdfafa'><</span> <span style='background-color: #fdfafa'>fill</span> <span style='background-color: #fdfafa'>##er</span> <span style='background-color: #fdfafa'>></span> <span style='background-color: #fdfafa'>i</span> <span style='background-color: #f8f9fa'><</span> <span style='background-color: #fdfafa'>re</span> <span style='background-color: #fdfafa'>##tra</span> <span style='background-color: #fdfafa'>##cing</span> <span style='background-color: #f8f9fa'>></span> <span style='background-color: #fdfafa'>i</span> <span style='background-color: #f8f9fa'><</span> <span style='background-color: #fdfafa'>re</span> <span style='background-color: #fdfafa'>##tra</span> <span style='background-color: #fdfafa'>##cing</span> <span style='background-color: #fdfafa'>></span> <span style='background-color: #f8f9fa'><</span> <span style='background-color: #fdfafa'>fill</span> <span style='background-color: #f8f9fa'>##er</span> <span style='background-color: #f8f9fa'>></span> <span style='background-color: #f8f9fa'>excuse</span> <span style='background-color: #f8f9fa'>me</span> <span style='background-color: #f8f9fa'>but</span> <span style='background-color: #f8f9fa'>you</span> <span style='background-color: #f8f9fa'>##k</span> <span style='background-color: #f8f9fa'>##no</span> <span style='background-color: #f8f9fa'>##w</span> <span style='background-color: #fdfafa'>i</span> <span style='background-color: #f8f9fa'><</span> <span style='background-color: #f8f9fa'>re</span> <span style='background-color: #fdfafa'>##tra</span> <span style='background-color: #fdfafa'>##cing</span> <span style='background-color: #fdfafa'>></span> <span style='background-color: #f8f9fa'>i</span> <span style='background-color: #f8f9fa'>was</span> <span style='background-color: #fdfafa'>[SEP]</span><br><br>"
      ],
      "text/plain": [
       "<IPython.core.display.HTML object>"
      ]
     },
     "metadata": {},
     "output_type": "display_data"
    },
    {
     "data": {
      "text/html": [
       "<table width: 100%><div style=\"border-top: 1px solid; margin-top: 5px;                          padding-top: 5px; display: inline-block\"><b>Legend: </b><span style=\"display: inline-block; width: 10px; height: 10px;                             border: 1px solid; background-color:                              #73949e\" ></span> Control <span style=\"display: inline-block; width: 10px; height: 10px;                             border: 1px solid; background-color:                              white\" ></span> Neutral <span style=\"display: inline-block; width: 10px; height: 10px;                             border: 1px solid; background-color:                              #e2a8a7\" ></span> Condition </div><tr><th>True Label</th><th>Predicted Label</th><th>Predicted probability</th><th>Attribution Score</th><tr><th>control</th><th>control</th><th>0.00</th><th>-5.41</th></table> <span style='background-color: #fdfafa'>[CLS]</span> <span style='background-color: #fdfafa'>tell</span> <span style='background-color: #fdfafa'>me</span> <span style='background-color: #f8f9fa'>.</span> <span style='background-color: #f8f9fa'>oh</span> <span style='background-color: #fdfafa'>.</span> <span style='background-color: #fdfafa'>oh</span> <span style='background-color: #faf1f1'>by</span> <span style='background-color: #f8f9fa'>looking</span> <span style='background-color: #f8f9fa'>at</span> <span style='background-color: #f8f9fa'>the</span> <span style='background-color: #f8f9fa'>.</span> <span style='background-color: #fdfafa'>okay</span> <span style='background-color: #f8f9fa'>the</span> <span style='background-color: #f8f9fa'>boy</span> <span style='background-color: #f8f9fa'><</span> <span style='background-color: #f8f9fa'>re</span> <span style='background-color: #fdfafa'>##tra</span> <span style='background-color: #fdfafa'>##cing</span> <span style='background-color: #f8f9fa'>></span> <span style='background-color: #faf1f1'>the</span> <span style='background-color: #e9eef0'>boy</span> <span style='background-color: #e9eef0'>is</span> <span style='background-color: #e9eef0'>standing</span> <span style='background-color: #f8f9fa'>on</span> <span style='background-color: #f8f9fa'>a</span> <span style='background-color: #faf1f1'><</span> <span style='background-color: #f8f9fa'>fill</span> <span style='background-color: #f8f9fa'>##er</span> <span style='background-color: #e9eef0'>></span> <span style='background-color: #e9eef0'>chair</span> <span style='background-color: #f8f9fa'>stool</span> <span style='background-color: #f8f9fa'>.</span> <span style='background-color: #f8f9fa'>he</span> <span style='background-color: #f8f9fa'>'</span> <span style='background-color: #f8f9fa'>s</span> <span style='background-color: #f8f9fa'><</span> <span style='background-color: #f8f9fa'>fill</span> <span style='background-color: #f8f9fa'>##er</span> <span style='background-color: #f8f9fa'>></span> <span style='background-color: #e9eef0'>taking</span> <span style='background-color: #f8f9fa'>cookies</span> <span style='background-color: #f8f9fa'>out</span> <span style='background-color: #fdfafa'>##of</span> <span style='background-color: #f8f9fa'>the</span> <span style='background-color: #f8f9fa'>cookie</span> <span style='background-color: #fdfafa'><</span> <span style='background-color: #fdfafa'>re</span> <span style='background-color: #f8f9fa'>##tra</span> <span style='background-color: #f8f9fa'>##cing</span> <span style='background-color: #f8f9fa'>></span> <span style='background-color: #f8f9fa'>cookie</span> <span style='background-color: #f8f9fa'>jar</span> <span style='background-color: #f8f9fa'>.</span> <span style='background-color: #f8f9fa'>the</span> <span style='background-color: #f8f9fa'>girl</span> <span style='background-color: #e9eef0'>is</span> <span style='background-color: #f8f9fa'>like</span> <span style='background-color: #f8f9fa'>s</span> <span style='background-color: #f8f9fa'>##nick</span> <span style='background-color: #fdfafa'>##ering</span> <span style='background-color: #fdfafa'>at</span> <span style='background-color: #e9eef0'>what</span> <span style='background-color: #f8f9fa'>'</span> <span style='background-color: #f8f9fa'>s</span> <span style='background-color: #fdfafa'>happening</span> <span style='background-color: #f8f9fa'>to</span> <span style='background-color: #e9eef0'>him</span> <span style='background-color: #f8f9fa'>in</span> <span style='background-color: #fdfafa'>a</span> <span style='background-color: #f8f9fa'>sense</span> <span style='background-color: #fdfafa'>.</span> <span style='background-color: #e9eef0'>so</span> <span style='background-color: #e9eef0'>she</span> <span style='background-color: #f8f9fa'>'</span> <span style='background-color: #f8f9fa'>s</span> <span style='background-color: #f8f9fa'>reaching</span> <span style='background-color: #f8f9fa'>up</span> <span style='background-color: #fdfafa'>to</span> <span style='background-color: #f8f9fa'>take</span> <span style='background-color: #f8f9fa'>a</span> <span style='background-color: #fdfafa'>cookie</span> <span style='background-color: #f8f9fa'>from</span> <span style='background-color: #f8f9fa'>his</span> <span style='background-color: #f8f9fa'>hand</span> <span style='background-color: #faf1f1'>.</span> <span style='background-color: #fdfafa'><</span> <span style='background-color: #f8f9fa'>fill</span> <span style='background-color: #f8f9fa'>##er</span> <span style='background-color: #fdfafa'>></span> <span style='background-color: #f8f9fa'>the</span> <span style='background-color: #f8f9fa'>woman</span> <span style='background-color: #f8f9fa'>the</span> <span style='background-color: #f8f9fa'>mother</span> <span style='background-color: #f8f9fa'>is</span> <span style='background-color: #f8f9fa'>drying</span> <span style='background-color: #fdfafa'>a</span> <span style='background-color: #f8f9fa'>dish</span> <span style='background-color: #fdfafa'>.</span> <span style='background-color: #e9eef0'>and</span> <span style='background-color: #f8f9fa'>the</span> <span style='background-color: #fdfafa'>sink</span> <span style='background-color: #f8f9fa'>is</span> <span style='background-color: #dae3e5'>flooding</span> <span style='background-color: #f8f9fa'>over</span> <span style='background-color: #fdfafa'><</span> <span style='background-color: #f8f9fa'>re</span> <span style='background-color: #f8f9fa'>##tra</span> <span style='background-color: #f8f9fa'>##cing</span> <span style='background-color: #f8f9fa'>></span> <span style='background-color: #f8f9fa'><</span> <span style='background-color: #f8f9fa'>fill</span> <span style='background-color: #fdfafa'>##er</span> <span style='background-color: #f8f9fa'>></span> <span style='background-color: #f8f9fa'>over</span> <span style='background-color: #f8f9fa'>##flow</span> <span style='background-color: #fdfafa'>##ing</span> <span style='background-color: #fdfafa'>.</span> <span style='background-color: #dae3e5'>and</span> <span style='background-color: #e9eef0'>there</span> <span style='background-color: #f8f9fa'>'</span> <span style='background-color: #f8f9fa'>s</span> <span style='background-color: #dae3e5'>water</span> <span style='background-color: #f8f9fa'>coming</span> <span style='background-color: #f8f9fa'>out</span> <span style='background-color: #fdfafa'>##of</span> <span style='background-color: #f8f9fa'>the</span> <span style='background-color: #fdfafa'>s</span> <span style='background-color: #fdfafa'>##pi</span> <span style='background-color: #e9eef0'>##got</span> <span style='background-color: #fdfafa'>.</span> <span style='background-color: #e9eef0'>and</span> <span style='background-color: #dae3e5'>there</span> <span style='background-color: #f8f9fa'>'</span> <span style='background-color: #fdfafa'>s</span> <span style='background-color: #f8f9fa'>well</span> <span style='background-color: #fdfafa'><</span> <span style='background-color: #fdfafa'>fill</span> <span style='background-color: #fdfafa'>##er</span> <span style='background-color: #f8f9fa'>></span> <span style='background-color: #f8f9fa'>actually</span> <span style='background-color: #f8f9fa'>happening</span> <span style='background-color: #f8f9fa'>or</span> <span style='background-color: #fdfafa'>.</span> <span style='background-color: #fdfafa'>well</span> <span style='background-color: #f8f9fa'>that</span> <span style='background-color: #fdfafa'>'</span> <span style='background-color: #f8f9fa'>s</span> <span style='background-color: #f8f9fa'><</span> <span style='background-color: #fdfafa'>re</span> <span style='background-color: #fdfafa'>##tra</span> <span style='background-color: #f8f9fa'>##cing</span> <span style='background-color: #fdfafa'>></span> <span style='background-color: #f8f9fa'>that</span> <span style='background-color: #f8f9fa'>'</span> <span style='background-color: #f8f9fa'>s</span> <span style='background-color: #f8f9fa'>all</span> <span style='background-color: #f8f9fa'>that</span> <span style='background-color: #f8f9fa'>'</span> <span style='background-color: #f8f9fa'>s</span> <span style='background-color: #f8f9fa'>in</span> <span style='background-color: #f8f9fa'>a</span> <span style='background-color: #f8f9fa'>way</span> <span style='background-color: #f8f9fa'>of</span> <span style='background-color: #dae3e5'>movement</span> <span style='background-color: #dae3e5'>but</span> <span style='background-color: #f8f9fa'>there</span> <span style='background-color: #fdfafa'>'</span> <span style='background-color: #e9eef0'>s</span> <span style='background-color: #fdfafa'>[SEP]</span><br><br>"
      ],
      "text/plain": [
       "<IPython.core.display.HTML object>"
      ]
     },
     "metadata": {},
     "output_type": "display_data"
    }
   ],
   "source": [
    "data = id.train.iloc[0:3]\n",
    "exp.visualize(data)"
   ]
  },
  {
   "cell_type": "markdown",
   "id": "94700ecd-accf-4641-853a-14d18db1117c",
   "metadata": {},
   "source": [
    "#### __4. $\\mathtt{ExplainModel().attribution\\_by\\_token()}$:__\n",
    "<font size=3>\n",
    "\n",
    "Create dataframe with attribution scores by text's tokens."
   ]
  },
  {
   "cell_type": "code",
   "execution_count": 7,
   "id": "c53f6d9c-0621-415c-9476-444383ef018d",
   "metadata": {},
   "outputs": [
    {
     "name": "stdout",
     "output_type": "stream",
     "text": [
      "Processing: 100.0%\r"
     ]
    },
    {
     "data": {
      "text/html": [
       "<div>\n",
       "<style scoped>\n",
       "    .dataframe tbody tr th:only-of-type {\n",
       "        vertical-align: middle;\n",
       "    }\n",
       "\n",
       "    .dataframe tbody tr th {\n",
       "        vertical-align: top;\n",
       "    }\n",
       "\n",
       "    .dataframe thead th {\n",
       "        text-align: right;\n",
       "    }\n",
       "</style>\n",
       "<table border=\"1\" class=\"dataframe\">\n",
       "  <thead>\n",
       "    <tr style=\"text-align: right;\">\n",
       "      <th></th>\n",
       "      <th>condition</th>\n",
       "      <th>group</th>\n",
       "      <th>pred_label</th>\n",
       "      <th>score</th>\n",
       "      <th>attributions</th>\n",
       "      <th>token</th>\n",
       "    </tr>\n",
       "    <tr>\n",
       "      <th>id</th>\n",
       "      <th></th>\n",
       "      <th></th>\n",
       "      <th></th>\n",
       "      <th></th>\n",
       "      <th></th>\n",
       "      <th></th>\n",
       "    </tr>\n",
       "  </thead>\n",
       "  <tbody>\n",
       "    <tr>\n",
       "      <th>S172</th>\n",
       "      <td>control</td>\n",
       "      <td>0</td>\n",
       "      <td>0</td>\n",
       "      <td>-3.061927</td>\n",
       "      <td>0.000000</td>\n",
       "      <td>[CLS]</td>\n",
       "    </tr>\n",
       "    <tr>\n",
       "      <th>S172</th>\n",
       "      <td>control</td>\n",
       "      <td>0</td>\n",
       "      <td>0</td>\n",
       "      <td>-3.061927</td>\n",
       "      <td>0.147523</td>\n",
       "      <td>well</td>\n",
       "    </tr>\n",
       "    <tr>\n",
       "      <th>S172</th>\n",
       "      <td>control</td>\n",
       "      <td>0</td>\n",
       "      <td>0</td>\n",
       "      <td>-3.061927</td>\n",
       "      <td>-0.009417</td>\n",
       "      <td>the</td>\n",
       "    </tr>\n",
       "    <tr>\n",
       "      <th>S172</th>\n",
       "      <td>control</td>\n",
       "      <td>0</td>\n",
       "      <td>0</td>\n",
       "      <td>-3.061927</td>\n",
       "      <td>-0.017980</td>\n",
       "      <td>little</td>\n",
       "    </tr>\n",
       "    <tr>\n",
       "      <th>S172</th>\n",
       "      <td>control</td>\n",
       "      <td>0</td>\n",
       "      <td>0</td>\n",
       "      <td>-3.061927</td>\n",
       "      <td>0.036564</td>\n",
       "      <td>girl</td>\n",
       "    </tr>\n",
       "  </tbody>\n",
       "</table>\n",
       "</div>"
      ],
      "text/plain": [
       "     condition  group  pred_label     score  attributions   token\n",
       "id                                                               \n",
       "S172   control      0           0 -3.061927      0.000000   [CLS]\n",
       "S172   control      0           0 -3.061927      0.147523    well\n",
       "S172   control      0           0 -3.061927     -0.009417     the\n",
       "S172   control      0           0 -3.061927     -0.017980  little\n",
       "S172   control      0           0 -3.061927      0.036564    girl"
      ]
     },
     "execution_count": 7,
     "metadata": {},
     "output_type": "execute_result"
    }
   ],
   "source": [
    "df = exp.attribution_by_token(data, path_name=\"../dataset/explain_test.csv\", return_results=True)\n",
    "df.head()"
   ]
  }
 ],
 "metadata": {
  "kernelspec": {
   "display_name": "Python 3 (ipykernel)",
   "language": "python",
   "name": "python3"
  },
  "language_info": {
   "codemirror_mode": {
    "name": "ipython",
    "version": 3
   },
   "file_extension": ".py",
   "mimetype": "text/x-python",
   "name": "python",
   "nbconvert_exporter": "python",
   "pygments_lexer": "ipython3",
   "version": "3.12.2"
  }
 },
 "nbformat": 4,
 "nbformat_minor": 5
}
