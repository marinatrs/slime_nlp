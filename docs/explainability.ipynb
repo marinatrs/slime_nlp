{
 "cells": [
  {
   "cell_type": "markdown",
   "id": "c8171ece-d5de-4d6f-9052-857dac4cb17f",
   "metadata": {},
   "source": [
    "## __Statistical and Linguistic Insights for Model Explanation - SLIME__ \n",
    "### __Model explainability__\n",
    "<font size=3>"
   ]
  },
  {
   "cell_type": "code",
   "execution_count": 1,
   "id": "9d8e6729-47a6-4ee1-b7e4-f414fc0c08de",
   "metadata": {},
   "outputs": [],
   "source": [
    "import sys\n",
    "sys.path.insert(0, \"../\")"
   ]
  },
  {
   "cell_type": "code",
   "execution_count": 3,
   "id": "5baf5434-495b-413f-8dca-6b6d590bd91a",
   "metadata": {},
   "outputs": [],
   "source": [
    "from slime_nlp.dataset import ImportData\n",
    "from slime_nlp.model import CustomModel\n",
    "from slime_nlp.slime import ExplainModel"
   ]
  },
  {
   "cell_type": "markdown",
   "id": "2dbd6c16-3c81-4f05-b99d-3a13d22a0c3b",
   "metadata": {},
   "source": [
    "<font size=3>\n",
    "    \n",
    "For model explainability, we use the $\\mathtt{ExplainModel}$ object, which provides:\n",
    "\n",
    "* $\\mathtt{explain()}$: Computes attribution scores for the text.\n",
    "* $\\mathtt{model\\_prediction()}$: Returns predictions using the fine-tuned $\\mathtt{CustomModel}$ weights.\n",
    "* $\\mathtt{visualize()}$: Highlights text tokens with attribution scores based on [Integrated Gradients](https://arxiv.org/abs/1703.01365).\n",
    "* $\\mathtt{attribution\\_by\\_token()}$: Outputs a dataframe containing explainability scores for each token.\n",
    "\n",
    "Refer to the $\\mathtt{ExplainModel}$ documentation below for details."
   ]
  },
  {
   "cell_type": "code",
   "execution_count": 5,
   "id": "064013fd-ab54-48b1-8e0a-1fd11d3f99c7",
   "metadata": {},
   "outputs": [
    {
     "name": "stdout",
     "output_type": "stream",
     "text": [
      "\n",
      "    # ExplainModel: model explanability tools for data processing and visualization.\n",
      "    \n",
      "    Input: (model_name=None, device='cpu', n_steps=50, pretrained_name=\"google-bert/bert-base-cased\")\n",
      "    -----\n",
      "    - model_name (str): string with the path and model's name.\n",
      "    - device (str): select CPU or GPU device for output tensors.\n",
      "    - n_steps (int): number of steps for Integrated Gradient approximation.\n",
      "    - pretained_name (str): pretrained model name from huggingface.co repository.\n",
      "    \n",
      "    \n",
      "    Methods:\n",
      "    -------\n",
      "    - explain: (text)\n",
      "      -- text (str): text as string format.\n",
      "    \n",
      "      Returns a dictionary with \n",
      "      > input_ids (Tensor[int]): sequence of special tokens IDs.\n",
      "      > token_list (List[str]): of tokens.\n",
      "      > attributions (Tensor[float]): Integrated Gradient's attribution score by token.\n",
      "      > delta (Tensor[float]): Integrated Gradient's error metric.\n",
      "    \n",
      "    - model_prediction: (input_ids)\n",
      "      -- input_ids (Tensor): sequence of special tokens IDs.\n",
      "    \n",
      "      Returns a dictionary with\n",
      "      > prob (float): classification probability score in [0, 1].\n",
      "      > class (int): classification integer score 0 or 1.\n",
      "    \n",
      "    - visualize: (data, cmap_size=20, colors=[\"#73949e\", \"white\", \"#e2a8a7\"], path_name=None)\n",
      "      -- data (DataFrame): pandas dataframe with \"text\" and \"group\" columns.\n",
      "      -- cmap_size (int): color-map discretization size.\n",
      "      -- colors (List[str]): list of color in hex for color-map.\n",
      "      -- path_name (str): string with the path and figure's name for output saving.\n",
      "    \n",
      "      Returns the tokenized text with attribution score by token.\n",
      "    \n",
      "    - attribution_by_token: (data, path_name=None, return_results=False):\n",
      "      -- data (DataFrame): pandas dataframe with \"id\", \"text\", and \"group\" columns.\n",
      "      -- path_name (str): string with path and dataframe's names for saving.\n",
      "      -- return_results (bool): boolean variable for returning dataframe.\n",
      "    \n",
      "      Returns a dataframe with \n",
      "      > id (str): text's ID.\n",
      "      > condition (str): string to indicate \"condition\" or \"control\" group.\n",
      "      > group (int): integer corresponding to the condition label (0 or 1).\n",
      "      > pred_label (int): model's prediction group (0 or 1).\n",
      "      > score (float): the sum of the text's attribution values.\n",
      "      > attribution (float): token's attribution value.\n",
      "      > token (str): token.\n",
      "\n",
      "    - stat: (data_path, features, rand_value=5000)\n",
      "      -- data_path (str): string with path and dataset name. This file is the user-dependent tagger output, \n",
      "      containing columns for tokens and associated features.\n",
      "      -- features (List): list of features processed by the user-dependent tagger for visualization. Use Ellipsis (...)\n",
      "      for considering an specific feature and its following ones, e.g, features=[\"BigWords\", ...].\n",
      "      -- rand_value (int): number of random subsamples of data. \n",
      "      -- results_path (str): string with path and dataframe results' name for saving in .csv file.\n",
      "      -- return_results (bool): Boolean variable for returning the dataframe results.\n",
      "    \n",
      "    \n"
     ]
    }
   ],
   "source": [
    "exp = ExplainModel(model_name=\"../weights/best_model.pt\", n_steps=10)  \n",
    "\n",
    "print(exp.__doc__)"
   ]
  },
  {
   "cell_type": "code",
   "execution_count": 7,
   "id": "1d79cc55-10dc-4dfe-a29e-edd5187e6613",
   "metadata": {},
   "outputs": [
    {
     "data": {
      "text/plain": [
       "\"oh there's a cookie jar and a youngster with a i don't know what . and the boy has a shirt with a cookie <filler> jar too i guess . the girl has one too a jar . and that's the stool . and this is <filler> with a kitchen thing <filler> dishes . and this is water somebody spilled . what do you call this . i don't know . i guess it's another for the . i don't know what's hɑɹu xn nuk in there . the tentu xn nuk very interesting . oh <filler> . she's looking at it . i don't know what . that the kid's gonna fall off the stool . i hope he does . oh they're in the cookie jar . oh what are they doing . i don't know . they're spilling something good and . it's <retracing> they're doing the dishes . the boy's trying to fall off the stool and she's trying to get\""
      ]
     },
     "execution_count": 7,
     "metadata": {},
     "output_type": "execute_result"
    }
   ],
   "source": [
    "# Import dataset:\n",
    "id = ImportData(path_name=\"../dataset/adress_sample.csv\", group_by=[\"id\", \"text\", \"group\"], verbose=False)\n",
    "\n",
    "text = id.train['text'][0]\n",
    "text"
   ]
  },
  {
   "cell_type": "markdown",
   "id": "b3bf3a6c-42a0-46da-afd3-d79d2178a44e",
   "metadata": {},
   "source": [
    "#### __1. $\\mathtt{ExplainModel().explain()}$:__\n",
    "<font size=3>\n",
    "\n",
    "Computing the attributions from text."
   ]
  },
  {
   "cell_type": "code",
   "execution_count": 9,
   "id": "b347e25e-abe7-4d0c-b26a-fe96e451dab2",
   "metadata": {},
   "outputs": [
    {
     "data": {
      "text/plain": [
       "dict_keys(['input_ids', 'token_list', 'attributions', 'delta'])"
      ]
     },
     "execution_count": 9,
     "metadata": {},
     "output_type": "execute_result"
    }
   ],
   "source": [
    "exp_results = exp.explain(text)\n",
    "exp_results.keys()"
   ]
  },
  {
   "cell_type": "markdown",
   "id": "cd1f4e29-f48b-4cb7-bb30-7c9e31cc1857",
   "metadata": {},
   "source": [
    "#### __2. $\\mathtt{ExplainModel().model\\_prediction()}$:__\n",
    "<font size=3>\n",
    "\n",
    "Predicting condition from CustomModel."
   ]
  },
  {
   "cell_type": "code",
   "execution_count": 10,
   "id": "928c26ba-dbd1-4498-800c-f484c07fdf07",
   "metadata": {},
   "outputs": [
    {
     "data": {
      "text/plain": [
       "dict_keys(['prob', 'class'])"
      ]
     },
     "execution_count": 10,
     "metadata": {},
     "output_type": "execute_result"
    }
   ],
   "source": [
    "pred = exp.model_prediction(exp_results['input_ids'])\n",
    "pred.keys()"
   ]
  },
  {
   "cell_type": "markdown",
   "id": "1869e536-a018-4847-97c9-d607cff4b200",
   "metadata": {},
   "source": [
    "#### __3. $\\mathtt{ExplainModel().visualize()}$:__\n",
    "<font size=3>\n",
    "\n",
    "The user can choose to view attributions for a specific text sample, with a color gradient indicating which tokens contribute the most to the groups."
   ]
  },
  {
   "cell_type": "code",
   "execution_count": 32,
   "id": "422dff86-d969-4960-9d08-56565858ff58",
   "metadata": {},
   "outputs": [
    {
     "data": {
      "text/html": [
       "<table width: 100%><div style=\"border-top: 1px solid; margin-top: 5px;                          padding-top: 5px; display: inline-block\"><b>Legend: </b><span style=\"display: inline-block; width: 10px; height: 10px;                             border: 1px solid; background-color:                              blue\" ></span> Control <span style=\"display: inline-block; width: 10px; height: 10px;                             border: 1px solid; background-color:                              white\" ></span> Neutral <span style=\"display: inline-block; width: 10px; height: 10px;                             border: 1px solid; background-color:                              red\" ></span> Condition </div><tr><th>True Label</th><th>Predicted Label</th><th>Predicted probability</th><th>Attribution Score</th><tr><th>condition</th><th>condition</th><th>1.00</th><th>2.58</th></table> <span style='background-color: #ffffff'>[CLS]</span> <span style='background-color: #ffffff'>oh</span> <span style='background-color: #ffdbdb'>there</span> <span style='background-color: #ffdbdb'>'</span> <span style='background-color: #ffdbdb'>s</span> <span style='background-color: #ffdbdb'>a</span> <span style='background-color: #dbdbff'>cookie</span> <span style='background-color: #ffffff'>jar</span> <span style='background-color: #ffffff'>and</span> <span style='background-color: #ffffff'>a</span> <span style='background-color: #ffffff'>young</span> <span style='background-color: #ffffff'>##ster</span> <span style='background-color: #ffffff'>with</span> <span style='background-color: #ffdbdb'>a</span> <span style='background-color: #ffffff'>i</span> <span style='background-color: #ffffff'>don</span> <span style='background-color: #ffffff'>'</span> <span style='background-color: #ffffff'>t</span> <span style='background-color: #ffffff'>know</span> <span style='background-color: #ffffff'>what</span> <span style='background-color: #ffffff'>.</span> <span style='background-color: #dbdbff'>and</span> <span style='background-color: #ffffff'>the</span> <span style='background-color: #ffffff'>boy</span> <span style='background-color: #dbdbff'>has</span> <span style='background-color: #ffffff'>a</span> <span style='background-color: #dbdbff'>shirt</span> <span style='background-color: #ffdbdb'>with</span> <span style='background-color: #ffdbdb'>a</span> <span style='background-color: #dbdbff'>cookie</span> <span style='background-color: #ffffff'><</span> <span style='background-color: #ffdbdb'>fill</span> <span style='background-color: #ffffff'>##er</span> <span style='background-color: #ffffff'>></span> <span style='background-color: #ffffff'>jar</span> <span style='background-color: #ffffff'>too</span> <span style='background-color: #ffffff'>i</span> <span style='background-color: #ffffff'>guess</span> <span style='background-color: #ffffff'>.</span> <span style='background-color: #ffdbdb'>the</span> <span style='background-color: #ffffff'>girl</span> <span style='background-color: #ffffff'>has</span> <span style='background-color: #ffffff'>one</span> <span style='background-color: #ffffff'>too</span> <span style='background-color: #ffffff'>a</span> <span style='background-color: #ffffff'>jar</span> <span style='background-color: #ffffff'>.</span> <span style='background-color: #ffffff'>and</span> <span style='background-color: #ffffff'>that</span> <span style='background-color: #ffffff'>'</span> <span style='background-color: #ffffff'>s</span> <span style='background-color: #ffffff'>the</span> <span style='background-color: #ffffff'>stool</span> <span style='background-color: #ffdbdb'>.</span> <span style='background-color: #ffffff'>and</span> <span style='background-color: #ffdbdb'>this</span> <span style='background-color: #ffdbdb'>is</span> <span style='background-color: #ffffff'><</span> <span style='background-color: #ffffff'>fill</span> <span style='background-color: #ffffff'>##er</span> <span style='background-color: #ffffff'>></span> <span style='background-color: #ffffff'>with</span> <span style='background-color: #ffffff'>a</span> <span style='background-color: #ffffff'>kitchen</span> <span style='background-color: #ffffff'>thing</span> <span style='background-color: #ffffff'><</span> <span style='background-color: #ffffff'>fill</span> <span style='background-color: #ffffff'>##er</span> <span style='background-color: #ffffff'>></span> <span style='background-color: #ffffff'>dishes</span> <span style='background-color: #ffdbdb'>.</span> <span style='background-color: #dbdbff'>and</span> <span style='background-color: #ffffff'>this</span> <span style='background-color: #ffffff'>is</span> <span style='background-color: #ffffff'>water</span> <span style='background-color: #dbdbff'>somebody</span> <span style='background-color: #dbdbff'>spilled</span> <span style='background-color: #ffffff'>.</span> <span style='background-color: #ffffff'>what</span> <span style='background-color: #ffdbdb'>do</span> <span style='background-color: #ffffff'>you</span> <span style='background-color: #ffffff'>call</span> <span style='background-color: #ffffff'>this</span> <span style='background-color: #ffffff'>.</span> <span style='background-color: #ffffff'>i</span> <span style='background-color: #ffdbdb'>don</span> <span style='background-color: #ffffff'>'</span> <span style='background-color: #ffffff'>t</span> <span style='background-color: #ffffff'>know</span> <span style='background-color: #dbdbff'>.</span> <span style='background-color: #ffffff'>i</span> <span style='background-color: #ffffff'>guess</span> <span style='background-color: #ffffff'>it</span> <span style='background-color: #ffffff'>'</span> <span style='background-color: #ffffff'>s</span> <span style='background-color: #ffffff'>another</span> <span style='background-color: #dbdbff'>for</span> <span style='background-color: #ffdbdb'>the</span> <span style='background-color: #ffdbdb'>.</span> <span style='background-color: #ffffff'>i</span> <span style='background-color: #ffffff'>don</span> <span style='background-color: #ffffff'>'</span> <span style='background-color: #ffffff'>t</span> <span style='background-color: #ffffff'>know</span> <span style='background-color: #ffffff'>what</span> <span style='background-color: #ffffff'>'</span> <span style='background-color: #ffffff'>s</span> <span style='background-color: #ffffff'>[UNK]</span> <span style='background-color: #ffffff'>x</span> <span style='background-color: #ffffff'>##n</span> <span style='background-color: #ffffff'>n</span> <span style='background-color: #ffffff'>##uk</span> <span style='background-color: #ffffff'>in</span> <span style='background-color: #ffffff'>there</span> <span style='background-color: #ffffff'>.</span> <span style='background-color: #ffffff'>the</span> <span style='background-color: #ffffff'>tent</span> <span style='background-color: #ffdbdb'>##u</span> <span style='background-color: #ffffff'>x</span> <span style='background-color: #ffffff'>##n</span> <span style='background-color: #ffffff'>n</span> <span style='background-color: #dbdbff'>##uk</span> <span style='background-color: #ffdbdb'>very</span> <span style='background-color: #dbdbff'>interesting</span> <span style='background-color: #ffdbdb'>.</span> <span style='background-color: #ffffff'>oh</span> <span style='background-color: #dbdbff'><</span> <span style='background-color: #ffffff'>fill</span> <span style='background-color: #dbdbff'>##er</span> <span style='background-color: #ffdbdb'>></span> <span style='background-color: #ffdbdb'>.</span> <span style='background-color: #ffdbdb'>she</span> <span style='background-color: #ffffff'>'</span> <span style='background-color: #ffffff'>s</span> <span style='background-color: #ffdbdb'>looking</span> <span style='background-color: #ffdbdb'>at</span> <span style='background-color: #ffb6b6'>it</span> <span style='background-color: #ffffff'>.</span> <span style='background-color: #ffdbdb'>i</span> <span style='background-color: #ffffff'>don</span> <span style='background-color: #ffffff'>'</span> <span style='background-color: #ffffff'>t</span> <span style='background-color: #ffffff'>know</span> <span style='background-color: #ffffff'>what</span> <span style='background-color: #ffffff'>.</span> <span style='background-color: #ffdbdb'>that</span> <span style='background-color: #ffffff'>the</span> <span style='background-color: #ffffff'>kid</span> <span style='background-color: #ffffff'>'</span> <span style='background-color: #ffffff'>s</span> <span style='background-color: #ffffff'>gonna</span> <span style='background-color: #ffdbdb'>fall</span> <span style='background-color: #ffffff'>off</span> <span style='background-color: #ffffff'>the</span> <span style='background-color: #ffffff'>stool</span> <span style='background-color: #ffffff'>.</span> <span style='background-color: #ffffff'>i</span> <span style='background-color: #ffffff'>hope</span> <span style='background-color: #ffffff'>he</span> <span style='background-color: #ffffff'>does</span> <span style='background-color: #ffdbdb'>.</span> <span style='background-color: #ffffff'>oh</span> <span style='background-color: #ffffff'>they</span> <span style='background-color: #ffffff'>'</span> <span style='background-color: #ffffff'>re</span> <span style='background-color: #ffffff'>in</span> <span style='background-color: #ffffff'>the</span> <span style='background-color: #ffffff'>cookie</span> <span style='background-color: #ffffff'>jar</span> <span style='background-color: #ffffff'>.</span> <span style='background-color: #dbdbff'>oh</span> <span style='background-color: #ffffff'>what</span> <span style='background-color: #ffdbdb'>are</span> <span style='background-color: #dbdbff'>they</span> <span style='background-color: #ffffff'>doing</span> <span style='background-color: #ffffff'>.</span> <span style='background-color: #ffffff'>i</span> <span style='background-color: #ffdbdb'>don</span> <span style='background-color: #ffffff'>'</span> <span style='background-color: #ffffff'>t</span> <span style='background-color: #ffffff'>know</span> <span style='background-color: #ffdbdb'>.</span> <span style='background-color: #ffffff'>they</span> <span style='background-color: #ffffff'>'</span> <span style='background-color: #ffffff'>re</span> <span style='background-color: #ffdbdb'>spilling</span> <span style='background-color: #ffffff'>something</span> <span style='background-color: #dbdbff'>good</span> <span style='background-color: #ffdbdb'>and</span> <span style='background-color: #ffdbdb'>.</span> <span style='background-color: #ffffff'>it</span> <span style='background-color: #ffffff'>'</span> <span style='background-color: #ffffff'>s</span> <span style='background-color: #ffffff'><</span> <span style='background-color: #ffffff'>re</span> <span style='background-color: #ffffff'>##tra</span> <span style='background-color: #ffffff'>##cing</span> <span style='background-color: #ffffff'>></span> <span style='background-color: #ffffff'>they</span> <span style='background-color: #ffffff'>'</span> <span style='background-color: #ffffff'>re</span> <span style='background-color: #ffffff'>doing</span> <span style='background-color: #ffffff'>the</span> <span style='background-color: #ffffff'>dishes</span> <span style='background-color: #ffffff'>.</span> <span style='background-color: #ffdbdb'>the</span> <span style='background-color: #ffffff'>boy</span> <span style='background-color: #ffffff'>'</span> <span style='background-color: #ffffff'>s</span> <span style='background-color: #ffffff'>trying</span> <span style='background-color: #ffdbdb'>to</span> <span style='background-color: #ffffff'>fall</span> <span style='background-color: #ffdbdb'>off</span> <span style='background-color: #ffffff'>the</span> <span style='background-color: #ffffff'>stool</span> <span style='background-color: #ffffff'>and</span> <span style='background-color: #ffffff'>she</span> <span style='background-color: #ffffff'>'</span> <span style='background-color: #ffffff'>s</span> <span style='background-color: #ffffff'>trying</span> <span style='background-color: #b6b6ff'>to</span> <span style='background-color: #b6b6ff'>get</span> <span style='background-color: #ffffff'>[SEP]</span><br><br>"
      ],
      "text/plain": [
       "<IPython.core.display.HTML object>"
      ]
     },
     "metadata": {},
     "output_type": "display_data"
    },
    {
     "data": {
      "text/html": [
       "<table width: 100%><div style=\"border-top: 1px solid; margin-top: 5px;                          padding-top: 5px; display: inline-block\"><b>Legend: </b><span style=\"display: inline-block; width: 10px; height: 10px;                             border: 1px solid; background-color:                              blue\" ></span> Control <span style=\"display: inline-block; width: 10px; height: 10px;                             border: 1px solid; background-color:                              white\" ></span> Neutral <span style=\"display: inline-block; width: 10px; height: 10px;                             border: 1px solid; background-color:                              red\" ></span> Condition </div><tr><th>True Label</th><th>Predicted Label</th><th>Predicted probability</th><th>Attribution Score</th><tr><th>control</th><th>control</th><th>0.00</th><th>-6.35</th></table> <span style='background-color: #ffffff'>[CLS]</span> <span style='background-color: #ffffff'>okay</span> <span style='background-color: #ffffff'>the</span> <span style='background-color: #ffffff'>water</span> <span style='background-color: #ffffff'>'</span> <span style='background-color: #ffffff'>s</span> <span style='background-color: #ffffff'>running</span> <span style='background-color: #ffffff'>out</span> <span style='background-color: #ffffff'>##of</span> <span style='background-color: #ffffff'>the</span> <span style='background-color: #ffffff'>sink</span> <span style='background-color: #ffffff'>over</span> <span style='background-color: #ffffff'>##flow</span> <span style='background-color: #ffffff'>##ing</span> <span style='background-color: #ffffff'>.</span> <span style='background-color: #ffffff'>the</span> <span style='background-color: #ffffff'>mother</span> <span style='background-color: #ffffff'>'</span> <span style='background-color: #ffffff'>s</span> <span style='background-color: #ffffff'>doing</span> <span style='background-color: #ffffff'>the</span> <span style='background-color: #ffffff'>dishes</span> <span style='background-color: #ffdbdb'>.</span> <span style='background-color: #dbdbff'><</span> <span style='background-color: #ffffff'>fill</span> <span style='background-color: #ffffff'>##er</span> <span style='background-color: #ffffff'>></span> <span style='background-color: #ffffff'>the</span> <span style='background-color: #ffffff'>boy</span> <span style='background-color: #dbdbff'>is</span> <span style='background-color: #ffffff'>falling</span> <span style='background-color: #dbdbff'>off</span> <span style='background-color: #ffffff'>of</span> <span style='background-color: #ffffff'>the</span> <span style='background-color: #ffffff'>stool</span> <span style='background-color: #ffffff'>stealing</span> <span style='background-color: #ffffff'>the</span> <span style='background-color: #ffffff'>cookies</span> <span style='background-color: #ffffff'>out</span> <span style='background-color: #dbdbff'>.</span> <span style='background-color: #ffffff'>the</span> <span style='background-color: #ffffff'>young</span> <span style='background-color: #ffffff'>lady</span> <span style='background-color: #ffffff'>is</span> <span style='background-color: #ffffff'>holding</span> <span style='background-color: #ffffff'>her</span> <span style='background-color: #dbdbff'>hand</span> <span style='background-color: #ffffff'>up</span> <span style='background-color: #ffffff'>ready</span> <span style='background-color: #ffffff'>to</span> <span style='background-color: #ffdbdb'>receive</span> <span style='background-color: #ffffff'>one</span> <span style='background-color: #ffffff'>of</span> <span style='background-color: #ffdbdb'>the</span> <span style='background-color: #dbdbff'>.</span> <span style='background-color: #ffffff'><</span> <span style='background-color: #ffffff'>fill</span> <span style='background-color: #ffffff'>##er</span> <span style='background-color: #ffffff'>></span> <span style='background-color: #dbdbff'>there</span> <span style='background-color: #ffffff'>is</span> <span style='background-color: #ffffff'>a</span> <span style='background-color: #ffffff'>cup</span> <span style='background-color: #ffffff'>and</span> <span style='background-color: #ffffff'>a</span> <span style='background-color: #ffffff'>sauce</span> <span style='background-color: #ffffff'>##r</span> <span style='background-color: #ffffff'>on</span> <span style='background-color: #ffffff'>the</span> <span style='background-color: #ffffff'><</span> <span style='background-color: #ffffff'>fill</span> <span style='background-color: #ffffff'>##er</span> <span style='background-color: #ffffff'>></span> <span style='background-color: #ffdbdb'><</span> <span style='background-color: #ffffff'>fill</span> <span style='background-color: #ffffff'>##er</span> <span style='background-color: #ffffff'>></span> <span style='background-color: #ffffff'>sink</span> <span style='background-color: #ffffff'>board</span> <span style='background-color: #ffffff'>.</span> <span style='background-color: #ffffff'>and</span> <span style='background-color: #ffffff'><</span> <span style='background-color: #ffffff'>fill</span> <span style='background-color: #ffffff'>##er</span> <span style='background-color: #ffffff'>></span> <span style='background-color: #ffffff'>there</span> <span style='background-color: #ffffff'>'</span> <span style='background-color: #ffffff'>s</span> <span style='background-color: #ffffff'>the</span> <span style='background-color: #ffffff'><</span> <span style='background-color: #ffffff'>fill</span> <span style='background-color: #ffffff'>##er</span> <span style='background-color: #ffffff'>></span> <span style='background-color: #ffffff'>d</span> <span style='background-color: #ffffff'>##rap</span> <span style='background-color: #ffffff'>##es</span> <span style='background-color: #ffffff'>on</span> <span style='background-color: #ffffff'>the</span> <span style='background-color: #ffffff'>kitchen</span> <span style='background-color: #ffffff'><</span> <span style='background-color: #ffffff'>re</span> <span style='background-color: #ffffff'>##tra</span> <span style='background-color: #ffffff'>##cing</span> <span style='background-color: #ffffff'>></span> <span style='background-color: #ffffff'><</span> <span style='background-color: #ffffff'>fill</span> <span style='background-color: #ffffff'>##er</span> <span style='background-color: #ffffff'>></span> <span style='background-color: #ffffff'>the</span> <span style='background-color: #ffffff'>.</span> <span style='background-color: #ffffff'>and</span> <span style='background-color: #ffffff'>the</span> <span style='background-color: #dbdbff'>top</span> <span style='background-color: #ffffff'>cabinets</span> <span style='background-color: #ffffff'>the</span> <span style='background-color: #9292ff'>door</span> <span style='background-color: #ffffff'>is</span> <span style='background-color: #b6b6ff'>open</span> <span style='background-color: #dbdbff'>and</span> <span style='background-color: #ffffff'>the</span> <span style='background-color: #ffffff'>cookie</span> <span style='background-color: #ffffff'>jar</span> <span style='background-color: #ffffff'>is</span> <span style='background-color: #ffffff'>in</span> <span style='background-color: #ffffff'>the</span> <span style='background-color: #ffffff'>.</span> <span style='background-color: #dbdbff'>the</span> <span style='background-color: #dbdbff'>boy</span> <span style='background-color: #dbdbff'>is</span> <span style='background-color: #ffffff'>up</span> <span style='background-color: #ffffff'>there</span> <span style='background-color: #dbdbff'>reaching</span> <span style='background-color: #dbdbff'>for</span> <span style='background-color: #ffffff'>it</span> <span style='background-color: #dbdbff'>and</span> <span style='background-color: #b6b6ff'>it</span> <span style='background-color: #b6b6ff'>looks</span> <span style='background-color: #dbdbff'>like</span> <span style='background-color: #dbdbff'>he</span> <span style='background-color: #ffffff'>'</span> <span style='background-color: #ffffff'>s</span> <span style='background-color: #ffffff'>gonna</span> <span style='background-color: #ffffff'>.</span> <span style='background-color: #dbdbff'>and</span> <span style='background-color: #b6b6ff'>outside</span> <span style='background-color: #ffffff'>is</span> <span style='background-color: #ffffff'>a</span> <span style='background-color: #ffffff'>nice</span> <span style='background-color: #dbdbff'>garden</span> <span style='background-color: #ffffff'>with</span> <span style='background-color: #ffffff'>the</span> <span style='background-color: #ffffff'>path</span> <span style='background-color: #ffffff'>leading</span> <span style='background-color: #ffffff'>around</span> <span style='background-color: #ffffff'>the</span> <span style='background-color: #dbdbff'>house</span> <span style='background-color: #ffffff'>.</span> <span style='background-color: #ffffff'>she</span> <span style='background-color: #dbdbff'>has</span> <span style='background-color: #ffffff'>a</span> <span style='background-color: #ffffff'>dish</span> <span style='background-color: #ffffff'>towel</span> <span style='background-color: #ffffff'>in</span> <span style='background-color: #dbdbff'>her</span> <span style='background-color: #dbdbff'>hand</span> <span style='background-color: #ffffff'><</span> <span style='background-color: #ffffff'>fill</span> <span style='background-color: #ffffff'>##er</span> <span style='background-color: #ffffff'>></span> <span style='background-color: #ffffff'>doing</span> <span style='background-color: #ffffff'><</span> <span style='background-color: #ffffff'>re</span> <span style='background-color: #ffffff'>##tra</span> <span style='background-color: #ffffff'>##cing</span> <span style='background-color: #ffffff'>></span> <span style='background-color: #ffffff'>drying</span> <span style='background-color: #dbdbff'>one</span> <span style='background-color: #ffffff'>of</span> <span style='background-color: #ffffff'>the</span> <span style='background-color: #ffffff'>.</span> <span style='background-color: #dbdbff'>and</span> <span style='background-color: #ffffff'>she</span> <span style='background-color: #ffffff'>has</span> <span style='background-color: #ffffff'><</span> <span style='background-color: #ffffff'>fill</span> <span style='background-color: #ffffff'>##er</span> <span style='background-color: #ffffff'>></span> <span style='background-color: #ffffff'>her</span> <span style='background-color: #ffffff'>hair</span> <span style='background-color: #ffffff'>##do</span> <span style='background-color: #ffffff'>.</span> <span style='background-color: #ffffff'>she</span> <span style='background-color: #ffffff'>'</span> <span style='background-color: #ffffff'>s</span> <span style='background-color: #ffffff'>wearing</span> <span style='background-color: #ffffff'>an</span> <span style='background-color: #ffffff'>apron</span> <span style='background-color: #ffffff'>.</span> <span style='background-color: #dbdbff'>and</span> <span style='background-color: #dbdbff'>the</span> <span style='background-color: #ffffff'>kids</span> <span style='background-color: #ffffff'>were</span> <span style='background-color: #dbdbff'>wearing</span> <span style='background-color: #ffffff'>shoes</span> <span style='background-color: #ffffff'>.</span> <span style='background-color: #dbdbff'>and</span> <span style='background-color: #ffffff'><</span> <span style='background-color: #ffffff'>fill</span> <span style='background-color: #ffffff'>##er</span> <span style='background-color: #ffffff'>></span> <span style='background-color: #ffffff'>she</span> <span style='background-color: #ffffff'>'</span> <span style='background-color: #ffffff'>s</span> <span style='background-color: #ffffff'>wearing</span> <span style='background-color: #ffffff'>shoes</span> <span style='background-color: #ffffff'>.</span> <span style='background-color: #ffffff'>and</span> <span style='background-color: #ffffff'>the</span> <span style='background-color: #ffffff'>water</span> <span style='background-color: #ffffff'>'</span> <span style='background-color: #ffffff'>s</span> <span style='background-color: #ffffff'>dripping</span> <span style='background-color: #ffffff'>on</span> <span style='background-color: #ffffff'>the</span> <span style='background-color: #dbdbff'>floor</span> <span style='background-color: #ffffff'>.</span> <span style='background-color: #ffffff'>what</span> <span style='background-color: #ffffff'>else</span> <span style='background-color: #ffffff'>you</span> <span style='background-color: #ffdbdb'>wanna</span> <span style='background-color: #ffffff'>know</span> <span style='background-color: #ffffff'>[SEP]</span><br><br>"
      ],
      "text/plain": [
       "<IPython.core.display.HTML object>"
      ]
     },
     "metadata": {},
     "output_type": "display_data"
    }
   ],
   "source": [
    "data = id.train.iloc[0:2]\n",
    "exp.visualize(data, cmap_size=15, colors=['blue', 'white', 'red'])"
   ]
  },
  {
   "cell_type": "markdown",
   "id": "94700ecd-accf-4641-853a-14d18db1117c",
   "metadata": {},
   "source": [
    "#### __4. $\\mathtt{ExplainModel().attribution\\_by\\_token()}$:__\n",
    "<font size=3>\n",
    "\n",
    "Create dataframe with attribution scores by text's tokens."
   ]
  },
  {
   "cell_type": "code",
   "execution_count": 14,
   "id": "c53f6d9c-0621-415c-9476-444383ef018d",
   "metadata": {},
   "outputs": [
    {
     "name": "stdout",
     "output_type": "stream",
     "text": [
      "Processing: 100.0%\r"
     ]
    },
    {
     "data": {
      "text/html": [
       "<div>\n",
       "<style scoped>\n",
       "    .dataframe tbody tr th:only-of-type {\n",
       "        vertical-align: middle;\n",
       "    }\n",
       "\n",
       "    .dataframe tbody tr th {\n",
       "        vertical-align: top;\n",
       "    }\n",
       "\n",
       "    .dataframe thead th {\n",
       "        text-align: right;\n",
       "    }\n",
       "</style>\n",
       "<table border=\"1\" class=\"dataframe\">\n",
       "  <thead>\n",
       "    <tr style=\"text-align: right;\">\n",
       "      <th></th>\n",
       "      <th>condition</th>\n",
       "      <th>group</th>\n",
       "      <th>pred_label</th>\n",
       "      <th>score</th>\n",
       "      <th>attributions</th>\n",
       "      <th>token</th>\n",
       "    </tr>\n",
       "    <tr>\n",
       "      <th>id</th>\n",
       "      <th></th>\n",
       "      <th></th>\n",
       "      <th></th>\n",
       "      <th></th>\n",
       "      <th></th>\n",
       "      <th></th>\n",
       "    </tr>\n",
       "  </thead>\n",
       "  <tbody>\n",
       "    <tr>\n",
       "      <th>S118</th>\n",
       "      <td>AD</td>\n",
       "      <td>1</td>\n",
       "      <td>1</td>\n",
       "      <td>2.580766</td>\n",
       "      <td>0.000000</td>\n",
       "      <td>[CLS]</td>\n",
       "    </tr>\n",
       "    <tr>\n",
       "      <th>S118</th>\n",
       "      <td>AD</td>\n",
       "      <td>1</td>\n",
       "      <td>1</td>\n",
       "      <td>2.580766</td>\n",
       "      <td>0.025739</td>\n",
       "      <td>oh</td>\n",
       "    </tr>\n",
       "    <tr>\n",
       "      <th>S118</th>\n",
       "      <td>AD</td>\n",
       "      <td>1</td>\n",
       "      <td>1</td>\n",
       "      <td>2.580766</td>\n",
       "      <td>0.093974</td>\n",
       "      <td>there</td>\n",
       "    </tr>\n",
       "    <tr>\n",
       "      <th>S118</th>\n",
       "      <td>AD</td>\n",
       "      <td>1</td>\n",
       "      <td>1</td>\n",
       "      <td>2.580766</td>\n",
       "      <td>0.069379</td>\n",
       "      <td>'</td>\n",
       "    </tr>\n",
       "    <tr>\n",
       "      <th>S118</th>\n",
       "      <td>AD</td>\n",
       "      <td>1</td>\n",
       "      <td>1</td>\n",
       "      <td>2.580766</td>\n",
       "      <td>0.100859</td>\n",
       "      <td>s</td>\n",
       "    </tr>\n",
       "  </tbody>\n",
       "</table>\n",
       "</div>"
      ],
      "text/plain": [
       "     condition  group  pred_label     score  attributions  token\n",
       "id                                                              \n",
       "S118        AD      1           1  2.580766      0.000000  [CLS]\n",
       "S118        AD      1           1  2.580766      0.025739     oh\n",
       "S118        AD      1           1  2.580766      0.093974  there\n",
       "S118        AD      1           1  2.580766      0.069379      '\n",
       "S118        AD      1           1  2.580766      0.100859      s"
      ]
     },
     "execution_count": 14,
     "metadata": {},
     "output_type": "execute_result"
    }
   ],
   "source": [
    "df = exp.attribution_by_token(data, path_name=\"../dataset/explain_test.csv\", return_results=True)\n",
    "df.head()"
   ]
  },
  {
   "cell_type": "code",
   "execution_count": null,
   "id": "e8db0a0c-5a24-4fb6-8ac7-4205f5daf24e",
   "metadata": {},
   "outputs": [],
   "source": []
  }
 ],
 "metadata": {
  "kernelspec": {
   "display_name": "Python 3 (ipykernel)",
   "language": "python",
   "name": "python3"
  },
  "language_info": {
   "codemirror_mode": {
    "name": "ipython",
    "version": 3
   },
   "file_extension": ".py",
   "mimetype": "text/x-python",
   "name": "python",
   "nbconvert_exporter": "python",
   "pygments_lexer": "ipython3",
   "version": "3.11.10"
  }
 },
 "nbformat": 4,
 "nbformat_minor": 5
}
